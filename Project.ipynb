{
 "cells": [
  {
   "cell_type": "code",
   "execution_count": 1,
   "metadata": {},
   "outputs": [],
   "source": [
    "import numpy as np\n",
    "import pandas as pd\n",
    "from sklearn.decomposition import PCA\n",
    "from sklearn.preprocessing import MinMaxScaler\n",
    "import get_data_obj\n",
    "from sklearn.model_selection import train_test_split\n",
    "from sklearn.tree import DecisionTreeClassifier\n",
    "from sklearn import metrics\n",
    "import matplotlib.pyplot as plt\n",
    "from sklearn.ensemble import RandomForestClassifier\n",
    "import matplotlib.pyplot as plt"
   ]
  },
  {
   "cell_type": "code",
   "execution_count": 2,
   "metadata": {},
   "outputs": [],
   "source": [
    "oj = get_data_obj.get_data()"
   ]
  },
  {
   "cell_type": "code",
   "execution_count": 3,
   "metadata": {},
   "outputs": [],
   "source": [
    "def scale_data(df):\n",
    "    y = df['target']\n",
    "    x = df.drop(['target'], axis = 1)\n",
    "    scaler = MinMaxScaler()\n",
    "    data = scaler.fit_transform(x)\n",
    "    scale_data = pd.DataFrame(data)\n",
    "    return scale_data, y"
   ]
  },
  {
   "cell_type": "code",
   "execution_count": 4,
   "metadata": {},
   "outputs": [],
   "source": [
    "def get_train_test_pca(scale_data, y):\n",
    "    pca = PCA(n_components= 280)\n",
    "    pca.fit(scale_data)\n",
    "    scale_transform = pca.transform(scale_data)\n",
    "    x = pd.DataFrame(scale_transform)\n",
    "    x_train, x_test, y_train, y_test = train_test_split(x, y, test_size=0.25, random_state=2020, stratify=y)\n",
    "    return x_train, x_test, y_train, y_test"
   ]
  },
  {
   "cell_type": "code",
   "execution_count": 5,
   "metadata": {},
   "outputs": [],
   "source": [
    "def random_for(x_train, x_test, y_train, y_test):\n",
    "    rf = RandomForestClassifier()\n",
    "    rf.fit(x_train, y_train)\n",
    "    pred_train = rf.predict(x_train)\n",
    "    pred_test = rf.predict(x_test)\n",
    "    training_acc = metrics.accuracy_score(y_train, pred_train)\n",
    "    testing_acc = metrics.accuracy_score(y_test, pred_test)\n",
    "    return training_acc, testing_acc"
   ]
  },
  {
   "cell_type": "markdown",
   "metadata": {},
   "source": [
    "## Roberts Training and Testing Accuracy"
   ]
  },
  {
   "cell_type": "code",
   "execution_count": 12,
   "metadata": {},
   "outputs": [
    {
     "name": "stdout",
     "output_type": "stream",
     "text": [
      "Training accuracy for Roberts: 1.0\n",
      "Testing accuracy for Roberts: 0.9428794992175273\n"
     ]
    }
   ],
   "source": [
    "df = oj.roberts()\n",
    "scale_data, y = scale_data(df)\n",
    "x_train, x_test, y_train, y_test = get_train_test_pca(scale_data, y)\n",
    "training_acc, testing_acc = random_for(x_train, x_test, y_train, y_test)\n",
    "print('Training accuracy for Roberts: {}'.format(training_acc))\n",
    "print('Testing accuracy for Roberts: {}'.format(testing_acc))"
   ]
  },
  {
   "cell_type": "markdown",
   "metadata": {},
   "source": [
    "## Sobel Training and Testing Accuracy"
   ]
  },
  {
   "cell_type": "code",
   "execution_count": 6,
   "metadata": {},
   "outputs": [
    {
     "name": "stdout",
     "output_type": "stream",
     "text": [
      "Training accuracy for Roberts: 1.0\n",
      "Testing accuracy for Roberts: 0.9585289514866979\n"
     ]
    }
   ],
   "source": [
    "df = oj.sobel()\n",
    "scale_data, y = scale_data(df)\n",
    "x_train, x_test, y_train, y_test = get_train_test_pca(scale_data, y)\n",
    "training_acc, testing_acc = random_for(x_train, x_test, y_train, y_test)\n",
    "print('Training accuracy for Sobel: {}'.format(training_acc))\n",
    "print('Testing accuracy for Sobel: {}'.format(testing_acc))"
   ]
  },
  {
   "cell_type": "markdown",
   "metadata": {},
   "source": [
    "## Prewitt Training and Testing Accuracy"
   ]
  },
  {
   "cell_type": "code",
   "execution_count": 6,
   "metadata": {},
   "outputs": [
    {
     "name": "stdout",
     "output_type": "stream",
     "text": [
      "Training accuracy for Roberts: 1.0\n",
      "Testing accuracy for Roberts: 0.960093896713615\n"
     ]
    }
   ],
   "source": [
    "df = oj.prewitt()\n",
    "scale_data, y = scale_data(df)\n",
    "x_train, x_test, y_train, y_test = get_train_test_pca(scale_data, y)\n",
    "training_acc, testing_acc = random_for(x_train, x_test, y_train, y_test)\n",
    "print('Training accuracy for Prewitt: {}'.format(training_acc))\n",
    "print('Testing accuracy for Prewitt: {}'.format(testing_acc))"
   ]
  },
  {
   "cell_type": "markdown",
   "metadata": {},
   "source": [
    "## Canny Training and Testing Accuracy"
   ]
  },
  {
   "cell_type": "code",
   "execution_count": 6,
   "metadata": {},
   "outputs": [
    {
     "name": "stdout",
     "output_type": "stream",
     "text": [
      "Training accuracy for Roberts: 1.0\n",
      "Testing accuracy for Roberts: 0.9131455399061033\n"
     ]
    }
   ],
   "source": [
    "df = oj.canny()\n",
    "scale_data, y = scale_data(df)\n",
    "x_train, x_test, y_train, y_test = get_train_test_pca(scale_data, y)\n",
    "training_acc, testing_acc = random_for(x_train, x_test, y_train, y_test)\n",
    "print('Training accuracy for Canny: {}'.format(training_acc))\n",
    "print('Testing accuracy for Canny: {}'.format(testing_acc))"
   ]
  },
  {
   "cell_type": "markdown",
   "metadata": {},
   "source": [
    "## Manual Hyperparameter tuning for Min Samples Split"
   ]
  },
  {
   "cell_type": "code",
   "execution_count": 6,
   "metadata": {},
   "outputs": [],
   "source": [
    "df = oj.constant()\n",
    "scale_data, y = scale_data(df)\n",
    "x_train, x_test, y_train, y_test = get_train_test_pca(scale_data, y)"
   ]
  },
  {
   "cell_type": "code",
   "execution_count": 12,
   "metadata": {},
   "outputs": [],
   "source": [
    "splits = [2, 5, 10, 15, 20, 25, 20, 35, 40]\n",
    "#train = []\n",
    "test_con = []\n",
    "for i in splits:\n",
    "    rf = RandomForestClassifier(min_samples_split= i)\n",
    "    rf.fit(x_train, y_train)\n",
    "    pred_train = rf.predict(x_train)\n",
    "    pred_test = rf.predict(x_test)\n",
    "    training_acc = metrics.accuracy_score(y_train, pred_train)\n",
    "    testing_acc = metrics.accuracy_score(y_test, pred_test)\n",
    "    #train.append(training_acc)\n",
    "    test_con.append(testing_acc)"
   ]
  },
  {
   "cell_type": "code",
   "execution_count": 15,
   "metadata": {},
   "outputs": [
    {
     "data": {
      "text/plain": [
       "[0.971830985915493,\n",
       " 0.97339593114241,\n",
       " 0.97339593114241,\n",
       " 0.9663536776212832,\n",
       " 0.9616588419405321,\n",
       " 0.9593114241001565,\n",
       " 0.956964006259781,\n",
       " 0.960093896713615,\n",
       " 0.9428794992175273]"
      ]
     },
     "execution_count": 15,
     "metadata": {},
     "output_type": "execute_result"
    }
   ],
   "source": [
    "test_con"
   ]
  },
  {
   "cell_type": "code",
   "execution_count": 6,
   "metadata": {},
   "outputs": [],
   "source": [
    "df = oj.prewitt()\n",
    "scale_data, y = scale_data(df)\n",
    "x_train, x_test, y_train, y_test = get_train_test_pca(scale_data, y)"
   ]
  },
  {
   "cell_type": "code",
   "execution_count": 7,
   "metadata": {},
   "outputs": [],
   "source": [
    "splits = [2, 5, 10, 15, 20, 25, 20, 35, 40]\n",
    "#train = []\n",
    "test_prew = []\n",
    "for i in splits:\n",
    "    rf = RandomForestClassifier(min_samples_split= i)\n",
    "    rf.fit(x_train, y_train)\n",
    "    pred_train = rf.predict(x_train)\n",
    "    pred_test = rf.predict(x_test)\n",
    "    training_acc = metrics.accuracy_score(y_train, pred_train)\n",
    "    testing_acc = metrics.accuracy_score(y_test, pred_test)\n",
    "    #train.append(training_acc)\n",
    "    test_prew.append(testing_acc)"
   ]
  },
  {
   "cell_type": "code",
   "execution_count": 8,
   "metadata": {},
   "outputs": [
    {
     "data": {
      "text/plain": [
       "[0.9553990610328639,\n",
       " 0.9694835680751174,\n",
       " 0.960093896713615,\n",
       " 0.9514866979655712,\n",
       " 0.9444444444444444,\n",
       " 0.9366197183098591,\n",
       " 0.9405320813771518,\n",
       " 0.9413145539906104,\n",
       " 0.9194053208137715]"
      ]
     },
     "execution_count": 8,
     "metadata": {},
     "output_type": "execute_result"
    }
   ],
   "source": [
    "test_prew"
   ]
  },
  {
   "cell_type": "code",
   "execution_count": 11,
   "metadata": {},
   "outputs": [],
   "source": [
    "test_con = [0.971830985915493,\n",
    " 0.97339593114241,\n",
    " 0.97339593114241,\n",
    " 0.9663536776212832,\n",
    " 0.9616588419405321,\n",
    " 0.9593114241001565,\n",
    " 0.956964006259781,\n",
    " 0.960093896713615,\n",
    " 0.9428794992175273]"
   ]
  },
  {
   "cell_type": "code",
   "execution_count": 12,
   "metadata": {},
   "outputs": [
    {
     "data": {
      "image/png": "[encoded data removed]",
      "text/plain": [
       "<Figure size 432x288 with 1 Axes>"
      ]
     },
     "metadata": {
      "needs_background": "light"
     },
     "output_type": "display_data"
    }
   ],
   "source": [
    "plt.plot(test_con, marker='o', color = 'red', label = 'No Edge Detection Testing')\n",
    "plt.plot(test_prew, marker = 'o', color = 'black', label = 'Prewitt Edge Detection Testing')\n",
    "plt.title('Validation Curve')\n",
    "plt.xticks(ticks=np.arange(len(splits)), labels= splits, rotation=45)\n",
    "plt.xlabel('Min Samples Split')\n",
    "plt.ylabel('Accuracy')\n",
    "plt.legend()\n",
    "plt.show()"
   ]
  },
  {
   "cell_type": "markdown",
   "metadata": {},
   "source": [
    "## Manual Hyperparameter tuning for Number of Estimators"
   ]
  },
  {
   "cell_type": "code",
   "execution_count": 6,
   "metadata": {},
   "outputs": [],
   "source": [
    "df = oj.constant()\n",
    "scale_data, y = scale_data(df)\n",
    "x_train, x_test, y_train, y_test = get_train_test_pca(scale_data, y)"
   ]
  },
  {
   "cell_type": "code",
   "execution_count": 8,
   "metadata": {},
   "outputs": [],
   "source": [
    "estimators = [20, 40, 60, 80, 100, 120, 140, 160, 180, 200]\n",
    "#train = []\n",
    "test_con = []\n",
    "for i in estimators:\n",
    "    rf = RandomForestClassifier(n_estimators = i)\n",
    "    rf.fit(x_train, y_train)\n",
    "    pred_train = rf.predict(x_train)\n",
    "    pred_test = rf.predict(x_test)\n",
    "    training_acc = metrics.accuracy_score(y_train, pred_train)\n",
    "    testing_acc = metrics.accuracy_score(y_test, pred_test)\n",
    "    #train.append(training_acc)\n",
    "    test_con.append(testing_acc)"
   ]
  },
  {
   "cell_type": "code",
   "execution_count": 9,
   "metadata": {},
   "outputs": [
    {
     "data": {
      "text/plain": [
       "[0.92018779342723,\n",
       " 0.9499217527386542,\n",
       " 0.9624413145539906,\n",
       " 0.9671361502347418,\n",
       " 0.97339593114241,\n",
       " 0.9710485133020345,\n",
       " 0.974960876369327,\n",
       " 0.974960876369327,\n",
       " 0.97339593114241,\n",
       " 0.9804381846635368]"
      ]
     },
     "execution_count": 9,
     "metadata": {},
     "output_type": "execute_result"
    }
   ],
   "source": [
    "test_con"
   ]
  },
  {
   "cell_type": "code",
   "execution_count": 6,
   "metadata": {},
   "outputs": [],
   "source": [
    "df = oj.prewitt()\n",
    "scale_data, y = scale_data(df)\n",
    "x_train, x_test, y_train, y_test = get_train_test_pca(scale_data, y)"
   ]
  },
  {
   "cell_type": "code",
   "execution_count": 7,
   "metadata": {},
   "outputs": [],
   "source": [
    "estimators = [20, 40, 60, 80, 100, 120, 140, 160, 180, 200]\n",
    "#train = []\n",
    "test_prew = []\n",
    "for i in estimators:\n",
    "    rf = RandomForestClassifier(n_estimators= i)\n",
    "    rf.fit(x_train, y_train)\n",
    "    pred_train = rf.predict(x_train)\n",
    "    pred_test = rf.predict(x_test)\n",
    "    training_acc = metrics.accuracy_score(y_train, pred_train)\n",
    "    testing_acc = metrics.accuracy_score(y_test, pred_test)\n",
    "    #train.append(training_acc)\n",
    "    test_prew.append(testing_acc)"
   ]
  },
  {
   "cell_type": "code",
   "execution_count": 8,
   "metadata": {},
   "outputs": [],
   "source": [
    "test_con = [0.92018779342723,\n",
    " 0.9499217527386542,\n",
    " 0.9624413145539906,\n",
    " 0.9671361502347418,\n",
    " 0.97339593114241,\n",
    " 0.9710485133020345,\n",
    " 0.974960876369327,\n",
    " 0.974960876369327,\n",
    " 0.97339593114241,\n",
    " 0.9804381846635368]"
   ]
  },
  {
   "cell_type": "code",
   "execution_count": 9,
   "metadata": {},
   "outputs": [
    {
     "data": {
      "image/png": "[encoded data removed]",
      "text/plain": [
       "<Figure size 432x288 with 1 Axes>"
      ]
     },
     "metadata": {
      "needs_background": "light"
     },
     "output_type": "display_data"
    }
   ],
   "source": [
    "plt.plot(test_con, marker='o', color = 'red', label = 'No Edge Detection Testing')\n",
    "plt.plot(test_prew, marker = 'o', color = 'black', label = 'Prewitt Edge Detection Testing')\n",
    "plt.title('Validation Curve')\n",
    "plt.xticks(ticks=np.arange(len(estimators)), labels= estimators, rotation=45)\n",
    "plt.xlabel('Number of Estimators')\n",
    "plt.ylabel('Accuracy')\n",
    "plt.legend()\n",
    "plt.show()"
   ]
  },
  {
   "cell_type": "markdown",
   "metadata": {},
   "source": [
    "## Final Model"
   ]
  },
  {
   "cell_type": "code",
   "execution_count": 6,
   "metadata": {},
   "outputs": [],
   "source": [
    "df = oj.constant()\n",
    "scale_data, y = scale_data(df)\n",
    "x_train, x_test, y_train, y_test = get_train_test_pca(scale_data, y)"
   ]
  },
  {
   "cell_type": "code",
   "execution_count": 7,
   "metadata": {},
   "outputs": [
    {
     "name": "stdout",
     "output_type": "stream",
     "text": [
      "[[620  20]\n",
      " [ 18 620]]\n"
     ]
    }
   ],
   "source": [
    "rf = RandomForestClassifier(n_estimators= 100, min_samples_split= 5)\n",
    "rf.fit(x_train, y_train)\n",
    "pred_train = rf.predict(x_train)\n",
    "pred_test = rf.predict(x_test)\n",
    "print(metrics.confusion_matrix(y_test, pred_test))"
   ]
  },
  {
   "cell_type": "code",
   "execution_count": 8,
   "metadata": {},
   "outputs": [
    {
     "name": "stdout",
     "output_type": "stream",
     "text": [
      "Training Accuracy 1.0\n",
      "Testing Accuracy 0.9702660406885759\n",
      "Recall 0.9717868338557993\n",
      "Specificity 0.96875\n",
      "Percision 0.96875\n",
      "F1 Score 0.9702660406885759\n"
     ]
    }
   ],
   "source": [
    "print('Training Accuracy', metrics.accuracy_score(y_train, pred_train))\n",
    "print('Testing Accuracy', metrics.accuracy_score(y_test, pred_test))\n",
    "print('Recall', metrics.recall_score(y_test, pred_test))\n",
    "print('Specificity', (620/640))\n",
    "print('Percision', metrics.precision_score(y_test, pred_test))\n",
    "print('F1 Score', metrics.f1_score(y_test, pred_test))"
   ]
  },
  {
   "cell_type": "code",
   "execution_count": null,
   "metadata": {},
   "outputs": [],
   "source": []
  }
 ],
 "metadata": {
  "interpreter": {
   "hash": "fa1a0c6af3f19fc2a89ff677cc16cabdeb47d4221f7a1de2795e662431ab72cc"
  },
  "kernelspec": {
   "display_name": "Python 3.8.5 32-bit",
   "name": "python3"
  },
  "language_info": {
   "codemirror_mode": {
    "name": "ipython",
    "version": 3
   },
   "file_extension": ".py",
   "mimetype": "text/x-python",
   "name": "python",
   "nbconvert_exporter": "python",
   "pygments_lexer": "ipython3",
   "version": "3.8.5"
  },
  "orig_nbformat": 4
 },
 "nbformat": 4,
 "nbformat_minor": 2
}
